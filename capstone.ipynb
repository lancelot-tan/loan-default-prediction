{
 "cells": [
  {
   "cell_type": "markdown",
   "metadata": {},
   "source": [
    "### MLND Capstone Project"
   ]
  },
  {
   "cell_type": "markdown",
   "metadata": {},
   "source": [
    "This is the notebook for data analysis and modeling for the MLND Capstone : Predicting Home Loan Default, based on the Kaggle competition Home Credit [here](https://www.kaggle.com/c/home-credit-default-risk)."
   ]
  },
  {
   "cell_type": "markdown",
   "metadata": {},
   "source": [
    "First lets import the relevant libraries"
   ]
  },
  {
   "cell_type": "code",
   "execution_count": 1,
   "metadata": {},
   "outputs": [],
   "source": [
    "import warnings\n",
    "warnings.filterwarnings(\"ignore\")\n",
    "\n",
    "import numpy as np\n",
    "import pandas as pd\n",
    "\n",
    "from sklearn.ensemble import RandomForestClassifier\n",
    "from sklearn.metrics import roc_auc_score\n",
    "from sklearn.preprocessing import Imputer\n",
    "from sklearn.model_selection import train_test_split\n",
    "from sklearn.preprocessing import StandardScaler\n",
    "from sklearn.model_selection import GridSearchCV\n",
    "from sklearn.model_selection import learning_curve\n",
    "\n",
    "from imblearn.over_sampling import SMOTE\n",
    "\n",
    "from xgboost import XGBClassifier\n",
    "\n",
    "from lightgbm import LGBMClassifier\n",
    "\n",
    "import matplotlib.pyplot as plt\n",
    "%matplotlib inline\n",
    "\n",
    "import seaborn as sns\n",
    "sns.set()"
   ]
  },
  {
   "cell_type": "markdown",
   "metadata": {},
   "source": [
    "Importing the data set.  Here we only use the main table application_train"
   ]
  },
  {
   "cell_type": "code",
   "execution_count": 2,
   "metadata": {},
   "outputs": [],
   "source": [
    "train = pd.read_csv(\"data/application_train.csv\")\n",
    "train = train.drop(columns=[\"SK_ID_CURR\"])\n",
    "df = train.copy()"
   ]
  },
  {
   "cell_type": "markdown",
   "metadata": {},
   "source": [
    "### Basic EDA"
   ]
  },
  {
   "cell_type": "code",
   "execution_count": 3,
   "metadata": {},
   "outputs": [
    {
     "data": {
      "text/html": [
       "<div>\n",
       "<style scoped>\n",
       "    .dataframe tbody tr th:only-of-type {\n",
       "        vertical-align: middle;\n",
       "    }\n",
       "\n",
       "    .dataframe tbody tr th {\n",
       "        vertical-align: top;\n",
       "    }\n",
       "\n",
       "    .dataframe thead th {\n",
       "        text-align: right;\n",
       "    }\n",
       "</style>\n",
       "<table border=\"1\" class=\"dataframe\">\n",
       "  <thead>\n",
       "    <tr style=\"text-align: right;\">\n",
       "      <th></th>\n",
       "      <th>TARGET</th>\n",
       "      <th>NAME_CONTRACT_TYPE</th>\n",
       "      <th>CODE_GENDER</th>\n",
       "      <th>FLAG_OWN_CAR</th>\n",
       "      <th>FLAG_OWN_REALTY</th>\n",
       "      <th>CNT_CHILDREN</th>\n",
       "      <th>AMT_INCOME_TOTAL</th>\n",
       "      <th>AMT_CREDIT</th>\n",
       "      <th>AMT_ANNUITY</th>\n",
       "      <th>AMT_GOODS_PRICE</th>\n",
       "      <th>...</th>\n",
       "      <th>FLAG_DOCUMENT_18</th>\n",
       "      <th>FLAG_DOCUMENT_19</th>\n",
       "      <th>FLAG_DOCUMENT_20</th>\n",
       "      <th>FLAG_DOCUMENT_21</th>\n",
       "      <th>AMT_REQ_CREDIT_BUREAU_HOUR</th>\n",
       "      <th>AMT_REQ_CREDIT_BUREAU_DAY</th>\n",
       "      <th>AMT_REQ_CREDIT_BUREAU_WEEK</th>\n",
       "      <th>AMT_REQ_CREDIT_BUREAU_MON</th>\n",
       "      <th>AMT_REQ_CREDIT_BUREAU_QRT</th>\n",
       "      <th>AMT_REQ_CREDIT_BUREAU_YEAR</th>\n",
       "    </tr>\n",
       "  </thead>\n",
       "  <tbody>\n",
       "    <tr>\n",
       "      <th>0</th>\n",
       "      <td>1</td>\n",
       "      <td>Cash loans</td>\n",
       "      <td>M</td>\n",
       "      <td>N</td>\n",
       "      <td>Y</td>\n",
       "      <td>0</td>\n",
       "      <td>202500.0</td>\n",
       "      <td>406597.5</td>\n",
       "      <td>24700.5</td>\n",
       "      <td>351000.0</td>\n",
       "      <td>...</td>\n",
       "      <td>0</td>\n",
       "      <td>0</td>\n",
       "      <td>0</td>\n",
       "      <td>0</td>\n",
       "      <td>0.0</td>\n",
       "      <td>0.0</td>\n",
       "      <td>0.0</td>\n",
       "      <td>0.0</td>\n",
       "      <td>0.0</td>\n",
       "      <td>1.0</td>\n",
       "    </tr>\n",
       "    <tr>\n",
       "      <th>1</th>\n",
       "      <td>0</td>\n",
       "      <td>Cash loans</td>\n",
       "      <td>F</td>\n",
       "      <td>N</td>\n",
       "      <td>N</td>\n",
       "      <td>0</td>\n",
       "      <td>270000.0</td>\n",
       "      <td>1293502.5</td>\n",
       "      <td>35698.5</td>\n",
       "      <td>1129500.0</td>\n",
       "      <td>...</td>\n",
       "      <td>0</td>\n",
       "      <td>0</td>\n",
       "      <td>0</td>\n",
       "      <td>0</td>\n",
       "      <td>0.0</td>\n",
       "      <td>0.0</td>\n",
       "      <td>0.0</td>\n",
       "      <td>0.0</td>\n",
       "      <td>0.0</td>\n",
       "      <td>0.0</td>\n",
       "    </tr>\n",
       "    <tr>\n",
       "      <th>2</th>\n",
       "      <td>0</td>\n",
       "      <td>Revolving loans</td>\n",
       "      <td>M</td>\n",
       "      <td>Y</td>\n",
       "      <td>Y</td>\n",
       "      <td>0</td>\n",
       "      <td>67500.0</td>\n",
       "      <td>135000.0</td>\n",
       "      <td>6750.0</td>\n",
       "      <td>135000.0</td>\n",
       "      <td>...</td>\n",
       "      <td>0</td>\n",
       "      <td>0</td>\n",
       "      <td>0</td>\n",
       "      <td>0</td>\n",
       "      <td>0.0</td>\n",
       "      <td>0.0</td>\n",
       "      <td>0.0</td>\n",
       "      <td>0.0</td>\n",
       "      <td>0.0</td>\n",
       "      <td>0.0</td>\n",
       "    </tr>\n",
       "    <tr>\n",
       "      <th>3</th>\n",
       "      <td>0</td>\n",
       "      <td>Cash loans</td>\n",
       "      <td>F</td>\n",
       "      <td>N</td>\n",
       "      <td>Y</td>\n",
       "      <td>0</td>\n",
       "      <td>135000.0</td>\n",
       "      <td>312682.5</td>\n",
       "      <td>29686.5</td>\n",
       "      <td>297000.0</td>\n",
       "      <td>...</td>\n",
       "      <td>0</td>\n",
       "      <td>0</td>\n",
       "      <td>0</td>\n",
       "      <td>0</td>\n",
       "      <td>NaN</td>\n",
       "      <td>NaN</td>\n",
       "      <td>NaN</td>\n",
       "      <td>NaN</td>\n",
       "      <td>NaN</td>\n",
       "      <td>NaN</td>\n",
       "    </tr>\n",
       "    <tr>\n",
       "      <th>4</th>\n",
       "      <td>0</td>\n",
       "      <td>Cash loans</td>\n",
       "      <td>M</td>\n",
       "      <td>N</td>\n",
       "      <td>Y</td>\n",
       "      <td>0</td>\n",
       "      <td>121500.0</td>\n",
       "      <td>513000.0</td>\n",
       "      <td>21865.5</td>\n",
       "      <td>513000.0</td>\n",
       "      <td>...</td>\n",
       "      <td>0</td>\n",
       "      <td>0</td>\n",
       "      <td>0</td>\n",
       "      <td>0</td>\n",
       "      <td>0.0</td>\n",
       "      <td>0.0</td>\n",
       "      <td>0.0</td>\n",
       "      <td>0.0</td>\n",
       "      <td>0.0</td>\n",
       "      <td>0.0</td>\n",
       "    </tr>\n",
       "  </tbody>\n",
       "</table>\n",
       "<p>5 rows × 121 columns</p>\n",
       "</div>"
      ],
      "text/plain": [
       "   TARGET NAME_CONTRACT_TYPE CODE_GENDER FLAG_OWN_CAR FLAG_OWN_REALTY  \\\n",
       "0       1         Cash loans           M            N               Y   \n",
       "1       0         Cash loans           F            N               N   \n",
       "2       0    Revolving loans           M            Y               Y   \n",
       "3       0         Cash loans           F            N               Y   \n",
       "4       0         Cash loans           M            N               Y   \n",
       "\n",
       "   CNT_CHILDREN  AMT_INCOME_TOTAL  AMT_CREDIT  AMT_ANNUITY  AMT_GOODS_PRICE  \\\n",
       "0             0          202500.0    406597.5      24700.5         351000.0   \n",
       "1             0          270000.0   1293502.5      35698.5        1129500.0   \n",
       "2             0           67500.0    135000.0       6750.0         135000.0   \n",
       "3             0          135000.0    312682.5      29686.5         297000.0   \n",
       "4             0          121500.0    513000.0      21865.5         513000.0   \n",
       "\n",
       "              ...             FLAG_DOCUMENT_18 FLAG_DOCUMENT_19  \\\n",
       "0             ...                            0                0   \n",
       "1             ...                            0                0   \n",
       "2             ...                            0                0   \n",
       "3             ...                            0                0   \n",
       "4             ...                            0                0   \n",
       "\n",
       "  FLAG_DOCUMENT_20 FLAG_DOCUMENT_21 AMT_REQ_CREDIT_BUREAU_HOUR  \\\n",
       "0                0                0                        0.0   \n",
       "1                0                0                        0.0   \n",
       "2                0                0                        0.0   \n",
       "3                0                0                        NaN   \n",
       "4                0                0                        0.0   \n",
       "\n",
       "   AMT_REQ_CREDIT_BUREAU_DAY  AMT_REQ_CREDIT_BUREAU_WEEK  \\\n",
       "0                        0.0                         0.0   \n",
       "1                        0.0                         0.0   \n",
       "2                        0.0                         0.0   \n",
       "3                        NaN                         NaN   \n",
       "4                        0.0                         0.0   \n",
       "\n",
       "   AMT_REQ_CREDIT_BUREAU_MON  AMT_REQ_CREDIT_BUREAU_QRT  \\\n",
       "0                        0.0                        0.0   \n",
       "1                        0.0                        0.0   \n",
       "2                        0.0                        0.0   \n",
       "3                        NaN                        NaN   \n",
       "4                        0.0                        0.0   \n",
       "\n",
       "   AMT_REQ_CREDIT_BUREAU_YEAR  \n",
       "0                         1.0  \n",
       "1                         0.0  \n",
       "2                         0.0  \n",
       "3                         NaN  \n",
       "4                         0.0  \n",
       "\n",
       "[5 rows x 121 columns]"
      ]
     },
     "execution_count": 3,
     "metadata": {},
     "output_type": "execute_result"
    }
   ],
   "source": [
    "train.head()"
   ]
  },
  {
   "cell_type": "code",
   "execution_count": 4,
   "metadata": {},
   "outputs": [
    {
     "data": {
      "text/plain": [
       "(307511, 121)"
      ]
     },
     "execution_count": 4,
     "metadata": {},
     "output_type": "execute_result"
    }
   ],
   "source": [
    "train.shape"
   ]
  },
  {
   "cell_type": "code",
   "execution_count": 5,
   "metadata": {},
   "outputs": [
    {
     "data": {
      "text/plain": [
       "<matplotlib.axes._subplots.AxesSubplot at 0x10e4c0048>"
      ]
     },
     "execution_count": 5,
     "metadata": {},
     "output_type": "execute_result"
    },
    {
     "data": {
      "image/png": "[encoded data removed]",
      "text/plain": [
       "<matplotlib.figure.Figure at 0x10c508e48>"
      ]
     },
     "metadata": {},
     "output_type": "display_data"
    }
   ],
   "source": [
    "train[\"TARGET\"].plot.hist(title=\"Distribution of TARGET variable\")"
   ]
  },
  {
   "cell_type": "code",
   "execution_count": 6,
   "metadata": {},
   "outputs": [
    {
     "data": {
      "text/plain": [
       "float64    65\n",
       "int64      39\n",
       "object     16\n",
       "dtype: int64"
      ]
     },
     "execution_count": 6,
     "metadata": {},
     "output_type": "execute_result"
    }
   ],
   "source": [
    "train.drop([\"TARGET\"],axis=1).dtypes.value_counts()"
   ]
  },
  {
   "cell_type": "markdown",
   "metadata": {},
   "source": [
    "Lets look at the missing values for float variables"
   ]
  },
  {
   "cell_type": "code",
   "execution_count": 12,
   "metadata": {},
   "outputs": [
    {
     "name": "stdout",
     "output_type": "stream",
     "text": [
      "Num of columns with >50% missing data : 38\n",
      "Num of columns with >60% missing data : 16\n"
     ]
    }
   ],
   "source": [
    "train_types = train.dtypes\n",
    "list_float_var = train_types[train_types==np.float].index\n",
    "train_float = train[list_float_var]\n",
    "null_perc = train_float.isnull().sum() / len(train_float)\n",
    "print(\"Num of columns with >50% missing data :\", len(null_perc[null_perc>0.5]))\n",
    "print(\"Num of columns with >60% missing data :\", len(null_perc[null_perc>0.6]))"
   ]
  },
  {
   "cell_type": "markdown",
   "metadata": {},
   "source": [
    "How are the numbers actually distributed?"
   ]
  },
  {
   "cell_type": "code",
   "execution_count": 16,
   "metadata": {},
   "outputs": [
    {
     "data": {
      "text/plain": [
       "<matplotlib.axes._subplots.AxesSubplot at 0x1a2783e6d8>"
      ]
     },
     "execution_count": 16,
     "metadata": {},
     "output_type": "execute_result"
    },
    {
     "data": {
      "image/png": "[encoded data removed]",
      "text/plain": [
       "<matplotlib.figure.Figure at 0x1a27d3def0>"
      ]
     },
     "metadata": {},
     "output_type": "display_data"
    }
   ],
   "source": [
    "sns.boxplot(data = train[list_float_var[15:25]], orient=\"h\")"
   ]
  },
  {
   "cell_type": "markdown",
   "metadata": {},
   "source": [
    "Many of them range between 0 and 1"
   ]
  },
  {
   "cell_type": "code",
   "execution_count": 17,
   "metadata": {},
   "outputs": [
    {
     "data": {
      "text/plain": [
       "<matplotlib.axes._subplots.AxesSubplot at 0x1a27f0c860>"
      ]
     },
     "execution_count": 17,
     "metadata": {},
     "output_type": "execute_result"
    },
    {
     "data": {
      "image/png": "[encoded data removed]",
      "text/plain": [
       "<matplotlib.figure.Figure at 0x1a27d50358>"
      ]
     },
     "metadata": {},
     "output_type": "display_data"
    }
   ],
   "source": [
    "sns.boxplot(data = train[list_float_var[[5,58]]], orient=\"h\")"
   ]
  },
  {
   "cell_type": "markdown",
   "metadata": {},
   "source": [
    "while some numbers are just negative"
   ]
  },
  {
   "cell_type": "markdown",
   "metadata": {},
   "source": [
    "Lets turn to the integer variables, and see how many unique values are there for each of the feature"
   ]
  },
  {
   "cell_type": "code",
   "execution_count": 19,
   "metadata": {},
   "outputs": [
    {
     "data": {
      "text/plain": [
       "TARGET                             2\n",
       "CNT_CHILDREN                      15\n",
       "DAYS_BIRTH                     17460\n",
       "DAYS_EMPLOYED                  12574\n",
       "DAYS_ID_PUBLISH                 6168\n",
       "FLAG_MOBIL                         2\n",
       "FLAG_EMP_PHONE                     2\n",
       "FLAG_WORK_PHONE                    2\n",
       "FLAG_CONT_MOBILE                   2\n",
       "FLAG_PHONE                         2\n",
       "FLAG_EMAIL                         2\n",
       "REGION_RATING_CLIENT               3\n",
       "REGION_RATING_CLIENT_W_CITY        3\n",
       "HOUR_APPR_PROCESS_START           24\n",
       "REG_REGION_NOT_LIVE_REGION         2\n",
       "REG_REGION_NOT_WORK_REGION         2\n",
       "LIVE_REGION_NOT_WORK_REGION        2\n",
       "REG_CITY_NOT_LIVE_CITY             2\n",
       "REG_CITY_NOT_WORK_CITY             2\n",
       "LIVE_CITY_NOT_WORK_CITY            2\n",
       "FLAG_DOCUMENT_2                    2\n",
       "FLAG_DOCUMENT_3                    2\n",
       "FLAG_DOCUMENT_4                    2\n",
       "FLAG_DOCUMENT_5                    2\n",
       "FLAG_DOCUMENT_6                    2\n",
       "FLAG_DOCUMENT_7                    2\n",
       "FLAG_DOCUMENT_8                    2\n",
       "FLAG_DOCUMENT_9                    2\n",
       "FLAG_DOCUMENT_10                   2\n",
       "FLAG_DOCUMENT_11                   2\n",
       "FLAG_DOCUMENT_12                   2\n",
       "FLAG_DOCUMENT_13                   2\n",
       "FLAG_DOCUMENT_14                   2\n",
       "FLAG_DOCUMENT_15                   2\n",
       "FLAG_DOCUMENT_16                   2\n",
       "FLAG_DOCUMENT_17                   2\n",
       "FLAG_DOCUMENT_18                   2\n",
       "FLAG_DOCUMENT_19                   2\n",
       "FLAG_DOCUMENT_20                   2\n",
       "FLAG_DOCUMENT_21                   2\n",
       "dtype: int64"
      ]
     },
     "execution_count": 19,
     "metadata": {},
     "output_type": "execute_result"
    }
   ],
   "source": [
    "list_int_var = train_types[train_types==np.int].index\n",
    "train_int = train[list_int_var]\n",
    "train_int.nunique()"
   ]
  },
  {
   "cell_type": "markdown",
   "metadata": {},
   "source": [
    "In fact most of them are flag variables which should be treated as categorical"
   ]
  },
  {
   "cell_type": "markdown",
   "metadata": {},
   "source": [
    "Finally lets look at the object variables, and see how much missing data do we have"
   ]
  },
  {
   "cell_type": "code",
   "execution_count": 23,
   "metadata": {},
   "outputs": [
    {
     "data": {
      "text/plain": [
       "NAME_CONTRACT_TYPE                 0\n",
       "CODE_GENDER                        0\n",
       "FLAG_OWN_CAR                       0\n",
       "FLAG_OWN_REALTY                    0\n",
       "NAME_TYPE_SUITE                 1292\n",
       "NAME_INCOME_TYPE                   0\n",
       "NAME_EDUCATION_TYPE                0\n",
       "NAME_FAMILY_STATUS                 0\n",
       "NAME_HOUSING_TYPE                  0\n",
       "OCCUPATION_TYPE                96391\n",
       "WEEKDAY_APPR_PROCESS_START         0\n",
       "ORGANIZATION_TYPE                  0\n",
       "FONDKAPREMONT_MODE            210295\n",
       "HOUSETYPE_MODE                154297\n",
       "WALLSMATERIAL_MODE            156341\n",
       "EMERGENCYSTATE_MODE           145755\n",
       "dtype: int64"
      ]
     },
     "execution_count": 23,
     "metadata": {},
     "output_type": "execute_result"
    }
   ],
   "source": [
    "list_obj_var = train_types[train_types==np.object].index\n",
    "train_obj = train[list_obj_var]\n",
    "train_obj.isnull().sum()"
   ]
  },
  {
   "cell_type": "markdown",
   "metadata": {},
   "source": [
    "A few of them have missing data which we simply just set to a constant"
   ]
  },
  {
   "cell_type": "markdown",
   "metadata": {},
   "source": [
    "### Data Preprocessing"
   ]
  },
  {
   "cell_type": "markdown",
   "metadata": {},
   "source": [
    "We will need to first create a few helper functions to facilitate data preprocessing"
   ]
  },
  {
   "cell_type": "markdown",
   "metadata": {},
   "source": [
    "The create_dummy function performs one hot encoding"
   ]
  },
  {
   "cell_type": "code",
   "execution_count": 26,
   "metadata": {},
   "outputs": [],
   "source": [
    "def create_dummy(df, col_list):\n",
    "    '''\n",
    "    parameters : df - input dataframe, col_list - list of columns to be one-hot-encoded\n",
    "    returns : new df with those fields in col_list one-hot-encoded\n",
    "    '''\n",
    "    res = df.copy()\n",
    "    for col in col_list:\n",
    "        df[col] = df[col].apply(lambda s:col+\"_\"+str(s))\n",
    "        dummy = pd.get_dummies(df[col])\n",
    "        res = pd.concat([res, dummy], axis=1)\n",
    "        res = res.drop(columns = [col])\n",
    "    return res"
   ]
  },
  {
   "cell_type": "markdown",
   "metadata": {},
   "source": [
    "The encode_data function selects which columns to be one hot encoded and returns data frame which is one hot encoded"
   ]
  },
  {
   "cell_type": "code",
   "execution_count": 28,
   "metadata": {},
   "outputs": [],
   "source": [
    "def encode_data(org_df):\n",
    "    \n",
    "    df = org_df.copy()\n",
    "    df_types = df.dtypes\n",
    "    list_obj_var = df_types[df_types==np.object].index.tolist()\n",
    "    list_int_var = df_types[df_types==np.integer].index.tolist()\n",
    "    list_cat_var = [ele for ele in list_int_var if ele not in (\"TARGET\",\"CNT_CHILDREN\",\"DAYS_BIRTH\", \"DAYS_EMPLOYED\", \"DAYS_ID_PUBLISH\",\"HOUR_APPR_PROCESS_START\")]\n",
    "    list_cat_var = list_cat_var + list_obj_var\n",
    "    df = create_dummy(df, list_cat_var)\n",
    "    \n",
    "    return df"
   ]
  },
  {
   "cell_type": "markdown",
   "metadata": {},
   "source": [
    "The normalize_data function scales the float variables"
   ]
  },
  {
   "cell_type": "code",
   "execution_count": 29,
   "metadata": {},
   "outputs": [],
   "source": [
    "def normalize_data(org_df):\n",
    "    '''\n",
    "    parameter : org_df - dataframe\n",
    "    returns : a new dataframe where all float variables are normalize\n",
    "    '''\n",
    "    df = org_df.copy()\n",
    "    scaler = StandardScaler()\n",
    "    df_types = df.dtypes\n",
    "    list_float_var = df_types[df_types==np.float].index\n",
    "    df[list_float_var] = scaler.fit_transform(df[list_float_var])\n",
    "    \n",
    "    return df"
   ]
  },
  {
   "cell_type": "markdown",
   "metadata": {},
   "source": [
    "The split_res_data function split the dataset into training and validation set.  Furthermore, it oversample the training data using SMOTE"
   ]
  },
  {
   "cell_type": "code",
   "execution_count": 31,
   "metadata": {},
   "outputs": [],
   "source": [
    "def split_res_data(X, y):    \n",
    "    '''\n",
    "    parameters: df, dataframe consisting of all training data\n",
    "    returns : X_train, y_train, X_test, y_test\n",
    "    ''' \n",
    "    \n",
    "    # split\n",
    "    X_train, X_test, y_train, y_test = train_test_split(X, y, test_size=0.3, random_state=2)\n",
    "    \n",
    "    \n",
    "    # oversampling with SMOTE\n",
    "    sm = SMOTE(random_state=12)\n",
    "    X_train_res, y_train_res = sm.fit_sample(X_train, y_train)\n",
    "    X_train = pd.DataFrame(X_train_res)\n",
    "    X_train.columns = X_test.columns\n",
    "    y_train = pd.DataFrame(y_train_res)\n",
    "    y_train.columns = y_test.columns\n",
    "    \n",
    "    return X_train, y_train, X_test, y_test"
   ]
  },
  {
   "cell_type": "markdown",
   "metadata": {},
   "source": [
    "Finally we are now ready to impute, encode, normalize, resample the data and prepare the training dataset and validation dataset"
   ]
  },
  {
   "cell_type": "code",
   "execution_count": 36,
   "metadata": {},
   "outputs": [],
   "source": [
    "df = df.fillna(value=0)\n",
    "df = encode_data(df)\n",
    "df = normalize_data(df)\n",
    "\n",
    "y = df[[\"TARGET\"]]\n",
    "X = df.drop(columns = [\"TARGET\"])\n",
    "\n",
    "X_train, y_train, X_test, y_test = split_res_data(X,y)"
   ]
  },
  {
   "cell_type": "markdown",
   "metadata": {},
   "source": [
    "### Model Training"
   ]
  },
  {
   "cell_type": "markdown",
   "metadata": {},
   "source": [
    "We shall train on three models - Random Forest, XGBoost, and LightGBM - using the default settings"
   ]
  },
  {
   "cell_type": "code",
   "execution_count": 48,
   "metadata": {},
   "outputs": [
    {
     "name": "stdout",
     "output_type": "stream",
     "text": [
      "rf 0.6040189512601487\n",
      "xgb 0.7303743963457479\n",
      "lgb 0.7548613917095266\n"
     ]
    }
   ],
   "source": [
    "def train_score(clf):\n",
    "    clf.fit(X_train, y_train)\n",
    "    pred_test = clf.predict_proba(X_test)\n",
    "    score = roc_auc_score(y_test, pred_test[:,1])\n",
    "    return score\n",
    "\n",
    "clfs = {\"rf\":RandomForestClassifier(), \"xgb\":XGBClassifier(), \"lgb\":LGBMClassifier()}\n",
    "\n",
    "for name, clf in clfs.items():\n",
    "    print(name, train_score(clf))"
   ]
  },
  {
   "cell_type": "markdown",
   "metadata": {},
   "source": [
    "The validation scores indicate LightGBM has a better edge in terms of AUC_ROC score"
   ]
  },
  {
   "cell_type": "markdown",
   "metadata": {},
   "source": [
    "### Hyper Parameter Tuning"
   ]
  },
  {
   "cell_type": "markdown",
   "metadata": {},
   "source": [
    "We use LightGBM as our model and do a grid search across the parameter space"
   ]
  },
  {
   "cell_type": "code",
   "execution_count": 101,
   "metadata": {},
   "outputs": [
    {
     "name": "stdout",
     "output_type": "stream",
     "text": [
      "15 10 -1 0.7504735658727387\n",
      "15 10 5 0.745774483609593\n",
      "15 10 10 0.7497892266592822\n",
      "15 100 -1 0.7504735658727387\n",
      "15 100 5 0.745774483609593\n",
      "15 100 10 0.7497892266592822\n",
      "15 1000 -1 0.7504735658727387\n",
      "15 1000 5 0.745774483609593\n",
      "15 1000 10 0.7497892266592822\n",
      "63 10 -1 0.7550540780314551\n",
      "63 10 5 0.7470358741378231\n",
      "63 10 10 0.7547367582711004\n",
      "63 100 -1 0.7550540780314551\n",
      "63 100 5 0.7470358741378231\n",
      "63 100 10 0.7547367582711004\n",
      "63 1000 -1 0.7550540780314551\n",
      "63 1000 5 0.7470358741378231\n",
      "63 1000 10 0.7547367582711004\n",
      "255 10 -1 0.7516014125391306\n",
      "255 10 5 0.7470358741378231\n",
      "255 10 10 0.7508929150511032\n",
      "255 100 -1 0.7516014125391306\n",
      "255 100 5 0.7470358741378231\n",
      "255 100 10 0.7508929150511032\n",
      "255 1000 -1 0.7516014125391306\n",
      "255 1000 5 0.7470358741378231\n",
      "255 1000 10 0.7508929150511032\n"
     ]
    }
   ],
   "source": [
    "best_score = 0\n",
    "for num_leaves in [15,63,255]:\n",
    "    for min_data_in_leaves in [10, 100, 1000]:\n",
    "        for max_depth in [-1, 5, 10]:\n",
    "            clf = LGBMClassifier(num_leaves=num_leaves, min_data_in_leaves=min_data_in_leaves, max_depth=max_depth)\n",
    "            clf.fit(X_train,y_train)\n",
    "            pred_test = clf.predict_proba(X_test)\n",
    "            score = roc_auc_score(y_test, pred_test[:,1])\n",
    "            print(num_leaves,min_data_in_leaves,max_depth,score)\n",
    "            if score > best_score:\n",
    "                best_score = score\n",
    "                params = [num_leaves, min_data_in_leaves, max_depth]"
   ]
  },
  {
   "cell_type": "markdown",
   "metadata": {},
   "source": [
    "Based on the above (rather limited) search, we see that a better set of hyperparameters would be\n",
    "- num_leaves : 63\n",
    "- min_data_in_leaves : 10\n",
    "- max_depth : -1 (unlimited)"
   ]
  },
  {
   "cell_type": "markdown",
   "metadata": {},
   "source": [
    "### Learning Curve"
   ]
  },
  {
   "cell_type": "markdown",
   "metadata": {},
   "source": [
    "We finally evaluate the model using learning curve by sampling the training data according to various sizes and evaluate the AUC_ROC score for training and validation sets"
   ]
  },
  {
   "cell_type": "code",
   "execution_count": 102,
   "metadata": {},
   "outputs": [],
   "source": [
    "ratios = np.linspace(0.1,0.9,8)\n",
    "clf = LGBMClassifier(num_leaves=63, min_data_in_leaves=10)\n",
    "train_score = []\n",
    "test_score = []\n",
    "for ratio in ratios:\n",
    "    X, _, y , _ = train_test_split(X_train,y_train,test_size=1.-ratio)\n",
    "    clf.fit(X,y)\n",
    "    pred_train = clf.predict_proba(X)\n",
    "    train_score.append(roc_auc_score(y, pred_train[:,1]))\n",
    "    pred_test = clf.predict_proba(X_test)\n",
    "    test_score.append(roc_auc_score(y_test, pred_test[:,1]))  "
   ]
  },
  {
   "cell_type": "code",
   "execution_count": 103,
   "metadata": {},
   "outputs": [
    {
     "data": {
      "image/png": "[encoded data removed]",
      "text/plain": [
       "<matplotlib.figure.Figure at 0x1ab3494ba8>"
      ]
     },
     "metadata": {},
     "output_type": "display_data"
    }
   ],
   "source": [
    "plt.plot(ratios, train_score, '--', color=\"#111111\",  label=\"Training score\")\n",
    "plt.plot(ratios, test_score, color=\"#111111\", label=\"Cross-validation score\")\n",
    "plt.title(\"Learning Curve\")\n",
    "plt.xlabel(\"Training Set Size\"), plt.ylabel(\"Score\"), plt.legend(loc=\"best\")\n",
    "plt.tight_layout()\n",
    "plt.show()"
   ]
  },
  {
   "cell_type": "markdown",
   "metadata": {},
   "source": [
    "As shown above, model has high trainig score but low validation score.  This could point to potential overfitting"
   ]
  },
  {
   "cell_type": "markdown",
   "metadata": {},
   "source": [
    "### Model Intepretation"
   ]
  },
  {
   "cell_type": "markdown",
   "metadata": {},
   "source": [
    "To have an attempt in understanding what the model is telling us, we take a look at the feature importances based on the model output"
   ]
  },
  {
   "cell_type": "code",
   "execution_count": 127,
   "metadata": {},
   "outputs": [
    {
     "data": {
      "image/png": "[encoded data removed]",
      "text/plain": [
       "<matplotlib.figure.Figure at 0x1a41881f98>"
      ]
     },
     "metadata": {},
     "output_type": "display_data"
    }
   ],
   "source": [
    "fea_imp = pd.DataFrame()\n",
    "fea_imp[\"features\"] = list(X_train)\n",
    "fea_imp[\"importance\"] = clf.feature_importances_\n",
    "from lightgbm import plot_importance\n",
    "plot_importance(clf, max_num_features=15)\n",
    "plt.show()"
   ]
  },
  {
   "cell_type": "markdown",
   "metadata": {},
   "source": [
    "Based on the top 15 features, we see that EXT_SOURCES, DAYS_BIRTH, AMT_CREDIT, AMT_ANNUITY etc are predictors for the probability of default.  These variables are related to financial status of an applicant so we can be rather confident with the model predictions"
   ]
  }
 ],
 "metadata": {
  "kernelspec": {
   "display_name": "Python 3",
   "language": "python",
   "name": "python3"
  },
  "language_info": {
   "codemirror_mode": {
    "name": "ipython",
    "version": 3
   },
   "file_extension": ".py",
   "mimetype": "text/x-python",
   "name": "python",
   "nbconvert_exporter": "python",
   "pygments_lexer": "ipython3",
   "version": "3.6.5"
  }
 },
 "nbformat": 4,
 "nbformat_minor": 2
}
